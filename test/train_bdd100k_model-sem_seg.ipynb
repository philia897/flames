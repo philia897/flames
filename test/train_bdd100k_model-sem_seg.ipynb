{
 "cells": [
  {
   "cell_type": "markdown",
   "metadata": {},
   "source": [
    "## Module loading"
   ]
  },
  {
   "cell_type": "code",
   "execution_count": 1,
   "metadata": {},
   "outputs": [],
   "source": [
    "from importlib import reload\n",
    "\n",
    "import torch\n",
    "import torch.optim as optim\n",
    "import torch.nn as nn\n",
    "import numpy as np\n",
    "\n",
    "from lib.data import tools\n",
    "reload(tools)\n",
    "from lib.data.tools import get_dataloader\n",
    "from lib.train.runners import PytorchRunner\n",
    "from lib.train.metrics import IoUMetricMeter\n",
    "from models.modelInterface import BDD100kModel\n",
    "import lib.simulation.env\n",
    "reload(lib.simulation.env)\n",
    "from lib.simulation.env import (get_image_paths, get_label_paths, get_transforms)"
   ]
  },
  {
   "cell_type": "markdown",
   "metadata": {},
   "source": [
    "## Set parameters"
   ]
  },
  {
   "cell_type": "code",
   "execution_count": 2,
   "metadata": {},
   "outputs": [],
   "source": [
    "DEVICE = torch.device(\"cuda:0\" if torch.cuda.is_available() else \"cpu\")\n",
    "pkg_name = \"10k\" # 100k or 10k\n",
    "output_size = (512,1024)\n",
    "task_name = \"sem_seg\" # \"drivable\", \"sem_seg\"\n",
    "config_file = \"/home/zekun/drivable/src/models/config-deeplabv3plus-sem_seg.py\"\n",
    "checkpoint_file = \"/home/zekun/drivable/outputs/semantic/db/models/deeplabv3+_backbone-centralized.pth\"\n",
    "new_checkpoint_file = \"/home/zekun/drivable/outputs/semantic/db/models/deeplabv3+_backbone-centralized.pth\"\n",
    "train_attr_file = f\"/home/zekun/drivable/data/bdd100k/labels/{pkg_name}/bdd100k_labels_images_attributes_train.json\"\n",
    "val_attr_file = f\"/home/zekun/drivable/data/bdd100k/labels/{pkg_name}/bdd100k_labels_images_attributes_val.json\"\n",
    "output_dir = \"/home/zekun/drivable/outputs/semantic\"\n",
    "\n",
    "batchsize = 4\n",
    "learn_rate = 0.0001\n",
    "epochs = 10\n",
    "num_workers = 0"
   ]
  },
  {
   "cell_type": "code",
   "execution_count": 4,
   "metadata": {},
   "outputs": [],
   "source": [
    "IMAGE_PATH, IMAGE_PATH_TRAIN, IMAGE_PATH_VAL = get_image_paths(\"/home/zekun/drivable/\", pkg_name)\n",
    "LABEL_PATH, LABEL_PATH_TRAIN, LABEL_PATH_VAL = get_label_paths(\"/home/zekun/drivable/\", task_name, pkg_name)\n",
    "img_transform, lbl_transform = get_transforms(task_name, output_size)\n",
    "conditions = []\n",
    "\n",
    "classes_num = 20"
   ]
  },
  {
   "cell_type": "markdown",
   "metadata": {},
   "source": [
    "## Data loaders"
   ]
  },
  {
   "cell_type": "code",
   "execution_count": 20,
   "metadata": {},
   "outputs": [],
   "source": [
    "train_fns = tools.get_img_paths_by_conditions(conditions, train_attr_file, IMAGE_PATH_TRAIN)\n",
    "val_fns = tools.get_img_paths_by_conditions(conditions, val_attr_file, IMAGE_PATH_VAL)\n",
    "\n",
    "train_loader = get_dataloader(\n",
    "    train_fns,\n",
    "    batch_size=batchsize,\n",
    "    workers=num_workers,\n",
    "    img_transform=img_transform,\n",
    "    lbl_transform=lbl_transform,\n",
    "    img_path=IMAGE_PATH_TRAIN,\n",
    "    lbl_path=LABEL_PATH_TRAIN,\n",
    "    is_train=True,\n",
    "    classes_num=classes_num\n",
    ")\n",
    "val_loader = get_dataloader(\n",
    "    val_fns,\n",
    "    batch_size=batchsize,\n",
    "    workers=num_workers,\n",
    "    img_transform=img_transform,\n",
    "    lbl_transform=lbl_transform,\n",
    "    img_path=IMAGE_PATH_VAL,\n",
    "    lbl_path=LABEL_PATH_VAL,        \n",
    "    is_train=False,\n",
    "    classes_num=classes_num\n",
    ")"
   ]
  },
  {
   "cell_type": "markdown",
   "metadata": {},
   "source": [
    "## Model initialization"
   ]
  },
  {
   "cell_type": "code",
   "execution_count": null,
   "metadata": {},
   "outputs": [],
   "source": [
    "model = BDD100kModel(\n",
    "    num_classes=classes_num,\n",
    "    backbone=tools.load_mmcv_checkpoint(config_file, checkpoint_file),\n",
    "    size=output_size\n",
    ")\n",
    "# tools.load_checkpoint(model, checkpoint_file)\n",
    "# tools.save_model(model.backbone, checkpoint_file)\n",
    "\n",
    "optimizer = optim.Adam(model.parameters(), lr=learn_rate)\n",
    "criterion = nn.CrossEntropyLoss(ignore_index=255)\n",
    "\n",
    "runner = PytorchRunner(optimizer, criterion, train_loader, val_loader, IoUMetricMeter(classes_num), DEVICE, True)"
   ]
  },
  {
   "cell_type": "markdown",
   "metadata": {},
   "source": [
    "## Model training"
   ]
  },
  {
   "cell_type": "code",
   "execution_count": 23,
   "metadata": {},
   "outputs": [
    {
     "name": "stderr",
     "output_type": "stream",
     "text": [
      "Train: 100%|██████████| 1750/1750 [18:40<00:00,  1.56it/s, loss=0.116, pAcc=0.96]\n",
      "DEBUG flames 2023-10-12 23:42:25,730 | runners.py:180 | {'comment': 'training log', 'epoch': 0, 'log': {'loss': 0.1160520529044526, 'pAcc': 0.9603119171982196, 'Acc': [0.9849085974464687, 0.9026111041515957, 0.9484844237506895, 0.9163420208594651, 0.8986607443250397, 0.794760676744661, 0.8064973636955839, 0.8660948306306544, 0.9393969450647139, 0.8636094856782397, 0.9841600529232759, 0.8457618098992797, 0.7593067898583704, 0.9653147743043453, 0.9502226835445007, 0.9559209805032812, 0.9885593220338983, 0.7596373778665282, 0.8255937729375417], 'mIoU': 0.7384643951207274, 'IoU': [0.9708990601599815, 0.8147779216397106, 0.906324250624672, 0.8169263904125331, 0.8124311435464098, 0.584171857905339, 0.6220215531456228, 0.6996494681578452, 0.897714688926668, 0.7320578545245875, 0.9675052223930626, 0.7129550235802017, 0.5733764274940746, 0.9391214894730905, 0.9010028823175658, 0.9138031991985858, 0.004629969576753702, 0.5976143933308293, 0.5638407108862856]}}\n",
      "[2023-10-12 23:42:25,730 runners.py:180 train] {'comment': 'training log', 'epoch': 0, 'log': {'loss': 0.1160520529044526, 'pAcc': 0.9603119171982196, 'Acc': [0.9849085974464687, 0.9026111041515957, 0.9484844237506895, 0.9163420208594651, 0.8986607443250397, 0.794760676744661, 0.8064973636955839, 0.8660948306306544, 0.9393969450647139, 0.8636094856782397, 0.9841600529232759, 0.8457618098992797, 0.7593067898583704, 0.9653147743043453, 0.9502226835445007, 0.9559209805032812, 0.9885593220338983, 0.7596373778665282, 0.8255937729375417], 'mIoU': 0.7384643951207274, 'IoU': [0.9708990601599815, 0.8147779216397106, 0.906324250624672, 0.8169263904125331, 0.8124311435464098, 0.584171857905339, 0.6220215531456228, 0.6996494681578452, 0.897714688926668, 0.7320578545245875, 0.9675052223930626, 0.7129550235802017, 0.5733764274940746, 0.9391214894730905, 0.9010028823175658, 0.9138031991985858, 0.004629969576753702, 0.5976143933308293, 0.5638407108862856]}}\n",
      "Train: 100%|██████████| 1750/1750 [18:39<00:00,  1.56it/s, loss=0.0988, pAcc=0.965]\n",
      "DEBUG flames 2023-10-13 00:01:04,882 | runners.py:180 | {'comment': 'training log', 'epoch': 1, 'log': {'loss': 0.09881005792532649, 'pAcc': 0.965496129140045, 'Acc': [0.9879809043145167, 0.9189710676949319, 0.954325090239825, 0.9366177675847739, 0.9196162970033006, 0.8099932982330185, 0.8425706970542258, 0.8794868058754648, 0.945971348539041, 0.8900617194229758, 0.9861421289660193, 0.8606764232193548, 0.7769014709827003, 0.9691049833947674, 0.9596956334218097, 0.9626230109206695, 0.9323168207534152, 0.7716928352389533, 0.8242574778214308], 'mIoU': 0.771492783313466, 'IoU': [0.976363412376094, 0.8446306688998988, 0.9159902928314434, 0.860421739797899, 0.8482463107406896, 0.6153747374074094, 0.666845451896263, 0.7274729510386536, 0.9077416441575756, 0.7799553603268701, 0.9714269456176564, 0.7441481962427414, 0.5573475334959053, 0.9453838998495805, 0.9180175863520347, 0.9296006476239775, 0.18520708553034768, 0.6047504127092233, 0.6594380060615931]}}\n",
      "[2023-10-13 00:01:04,882 runners.py:180 train] {'comment': 'training log', 'epoch': 1, 'log': {'loss': 0.09881005792532649, 'pAcc': 0.965496129140045, 'Acc': [0.9879809043145167, 0.9189710676949319, 0.954325090239825, 0.9366177675847739, 0.9196162970033006, 0.8099932982330185, 0.8425706970542258, 0.8794868058754648, 0.945971348539041, 0.8900617194229758, 0.9861421289660193, 0.8606764232193548, 0.7769014709827003, 0.9691049833947674, 0.9596956334218097, 0.9626230109206695, 0.9323168207534152, 0.7716928352389533, 0.8242574778214308], 'mIoU': 0.771492783313466, 'IoU': [0.976363412376094, 0.8446306688998988, 0.9159902928314434, 0.860421739797899, 0.8482463107406896, 0.6153747374074094, 0.666845451896263, 0.7274729510386536, 0.9077416441575756, 0.7799553603268701, 0.9714269456176564, 0.7441481962427414, 0.5573475334959053, 0.9453838998495805, 0.9180175863520347, 0.9296006476239775, 0.18520708553034768, 0.6047504127092233, 0.6594380060615931]}}\n",
      "Train:   6%|▌         | 99/1750 [01:03<17:46,  1.55it/s, loss=0.0874, pAcc=0.969]\n"
     ]
    },
    {
     "ename": "KeyboardInterrupt",
     "evalue": "",
     "output_type": "error",
     "traceback": [
      "\u001b[0;31m---------------------------------------------------------------------------\u001b[0m",
      "\u001b[0;31mKeyboardInterrupt\u001b[0m                         Traceback (most recent call last)",
      "\u001b[1;32m/home/zekun/drivable/test/train_bdd100k_model-sem_seg.ipynb Cell 11\u001b[0m line \u001b[0;36m1\n\u001b[0;32m----> <a href='vscode-notebook-cell://ssh-remote%2Btlab.server/home/zekun/drivable/test/train_bdd100k_model-sem_seg.ipynb#X14sdnNjb2RlLXJlbW90ZQ%3D%3D?line=0'>1</a>\u001b[0m runner\u001b[39m.\u001b[39;49mtrain(model, epochs)\n",
      "File \u001b[0;32m~/drivable/src/lib/train/runners.py:171\u001b[0m, in \u001b[0;36mtrain\u001b[0;34m(self, model, epochs, comment)\u001b[0m\n\u001b[1;32m    166\u001b[0m \u001b[39mdef\u001b[39;00m \u001b[39mtrain\u001b[39m(\u001b[39mself\u001b[39m, model:torch\u001b[39m.\u001b[39mnn\u001b[39m.\u001b[39mModule, epochs\u001b[39m=\u001b[39m\u001b[39m1\u001b[39m)\u001b[39m-\u001b[39m\u001b[39m>\u001b[39m\u001b[39mNone\u001b[39;00m:\n\u001b[1;32m    167\u001b[0m     \u001b[39mfor\u001b[39;00m epoch_i \u001b[39min\u001b[39;00m \u001b[39mrange\u001b[39m(epochs):\n\u001b[1;32m    168\u001b[0m         train_log \u001b[39m=\u001b[39m train_epoch(\n\u001b[1;32m    169\u001b[0m             model\u001b[39m=\u001b[39mmodel,\n\u001b[1;32m    170\u001b[0m             optimizer\u001b[39m=\u001b[39m\u001b[39mself\u001b[39m\u001b[39m.\u001b[39moptimizer,\n\u001b[0;32m--> 171\u001b[0m             criterion\u001b[39m=\u001b[39m\u001b[39mself\u001b[39m\u001b[39m.\u001b[39mcriterion,\n\u001b[1;32m    172\u001b[0m             dataloader\u001b[39m=\u001b[39m\u001b[39mself\u001b[39m\u001b[39m.\u001b[39mtrain_loader,\n\u001b[1;32m    173\u001b[0m             metric_meter\u001b[39m=\u001b[39m\u001b[39mself\u001b[39m\u001b[39m.\u001b[39mmetric_meter,\n\u001b[1;32m    174\u001b[0m             device\u001b[39m=\u001b[39m\u001b[39mself\u001b[39m\u001b[39m.\u001b[39mdevice,\n\u001b[1;32m    175\u001b[0m             verbose\u001b[39m=\u001b[39m\u001b[39mself\u001b[39m\u001b[39m.\u001b[39mverbose\n\u001b[1;32m    176\u001b[0m         )\n\u001b[1;32m    177\u001b[0m     \u001b[39mreturn\u001b[39;00m train_log\n",
      "File \u001b[0;32m~/drivable/src/lib/train/runners.py:88\u001b[0m, in \u001b[0;36mtrain_epoch\u001b[0;34m(model, optimizer, criterion, dataloader, metric_meter, device, verbose)\u001b[0m\n\u001b[1;32m     85\u001b[0m loss_meter\u001b[39m.\u001b[39mupdate(loss\u001b[39m.\u001b[39mitem(), n\u001b[39m=\u001b[39mn)\n\u001b[1;32m     87\u001b[0m \u001b[39mwith\u001b[39;00m torch\u001b[39m.\u001b[39mno_grad():\n\u001b[0;32m---> 88\u001b[0m     metric_meter\u001b[39m.\u001b[39mcalculate_and_log(y, outputs)\n\u001b[1;32m     90\u001b[0m logs\u001b[39m.\u001b[39mupdate({\u001b[39m\"\u001b[39m\u001b[39mloss\u001b[39m\u001b[39m\"\u001b[39m: loss_meter\u001b[39m.\u001b[39mavg})\n\u001b[1;32m     91\u001b[0m logs\u001b[39m.\u001b[39mupdate(metric_meter\u001b[39m.\u001b[39msummary())\n",
      "\u001b[0;31mKeyboardInterrupt\u001b[0m: "
     ]
    }
   ],
   "source": [
    "runner.train(model, epochs)"
   ]
  },
  {
   "cell_type": "markdown",
   "metadata": {},
   "source": [
    "## Model Validation"
   ]
  },
  {
   "cell_type": "code",
   "execution_count": 24,
   "metadata": {},
   "outputs": [
    {
     "name": "stderr",
     "output_type": "stream",
     "text": [
      "Valid: 100%|██████████| 250/250 [00:56<00:00,  4.39it/s, loss=0.286, pAcc=0.932]\n",
      "DEBUG flames 2023-10-13 00:03:16,272 | runners.py:194 | {'comment': 'validating log', 'log': {'loss': 0.28594414007663727, 'pAcc': 0.932371790869668, 'Acc': [0.9661183834632512, 0.8108512950796362, 0.9098675036155082, 0.49273669690301697, 0.6824299972609191, 0.7248313244919246, 0.784213741893035, 0.7497396403016247, 0.9350343388729282, 0.6227064857228221, 0.9755990970947657, 0.7991517946569333, 0.6502722537878788, 0.9453456735145814, 0.7983801077172566, 0.8907954606531314, 0.0, 0.45704347826086955, 0.5712433211262532], 'mIoU': 0.5859109607409825, 'IoU': [0.944570068024539, 0.6472956172912846, 0.8533903083420729, 0.3232128476242039, 0.4912860246472642, 0.5229177003546337, 0.5595600378930778, 0.5422852637529381, 0.8654785729685265, 0.4884687541955892, 0.9534308726826696, 0.6159531017137226, 0.34573689758799186, 0.9038844072224925, 0.5605701712167919, 0.7697341391903341, 0.0, 0.3417770905885583, 0.40275637878197856]}}\n",
      "[2023-10-13 00:03:16,272 runners.py:194 validate] {'comment': 'validating log', 'log': {'loss': 0.28594414007663727, 'pAcc': 0.932371790869668, 'Acc': [0.9661183834632512, 0.8108512950796362, 0.9098675036155082, 0.49273669690301697, 0.6824299972609191, 0.7248313244919246, 0.784213741893035, 0.7497396403016247, 0.9350343388729282, 0.6227064857228221, 0.9755990970947657, 0.7991517946569333, 0.6502722537878788, 0.9453456735145814, 0.7983801077172566, 0.8907954606531314, 0.0, 0.45704347826086955, 0.5712433211262532], 'mIoU': 0.5859109607409825, 'IoU': [0.944570068024539, 0.6472956172912846, 0.8533903083420729, 0.3232128476242039, 0.4912860246472642, 0.5229177003546337, 0.5595600378930778, 0.5422852637529381, 0.8654785729685265, 0.4884687541955892, 0.9534308726826696, 0.6159531017137226, 0.34573689758799186, 0.9038844072224925, 0.5605701712167919, 0.7697341391903341, 0.0, 0.3417770905885583, 0.40275637878197856]}}\n"
     ]
    },
    {
     "name": "stdout",
     "output_type": "stream",
     "text": [
      "{'loss': 0.28594414007663727, 'pAcc': 0.932371790869668, 'Acc': [0.9661183834632512, 0.8108512950796362, 0.9098675036155082, 0.49273669690301697, 0.6824299972609191, 0.7248313244919246, 0.784213741893035, 0.7497396403016247, 0.9350343388729282, 0.6227064857228221, 0.9755990970947657, 0.7991517946569333, 0.6502722537878788, 0.9453456735145814, 0.7983801077172566, 0.8907954606531314, 0.0, 0.45704347826086955, 0.5712433211262532], 'mIoU': 0.5859109607409825, 'IoU': [0.944570068024539, 0.6472956172912846, 0.8533903083420729, 0.3232128476242039, 0.4912860246472642, 0.5229177003546337, 0.5595600378930778, 0.5422852637529381, 0.8654785729685265, 0.4884687541955892, 0.9534308726826696, 0.6159531017137226, 0.34573689758799186, 0.9038844072224925, 0.5605701712167919, 0.7697341391903341, 0.0, 0.3417770905885583, 0.40275637878197856]}\n"
     ]
    }
   ],
   "source": [
    "valid_logs = runner.validate(model)\n",
    "print(valid_logs)"
   ]
  },
  {
   "cell_type": "code",
   "execution_count": 25,
   "metadata": {},
   "outputs": [
    {
     "name": "stdout",
     "output_type": "stream",
     "text": [
      "model saved to /home/zekun/drivable/outputs/semantic/db/models/deeplabv3+_backbone-centralized.pth\n"
     ]
    }
   ],
   "source": [
    "tools.save_model(model.backbone, new_checkpoint_file, epochs, valid_logs['mIoU'])"
   ]
  },
  {
   "cell_type": "code",
   "execution_count": 61,
   "metadata": {},
   "outputs": [
    {
     "name": "stdout",
     "output_type": "stream",
     "text": [
      "Loss = 0.31901394536147765\n",
      "mAcc = 0.9128786127915733\n",
      "Acc = [0.95043859 0.80964294 0.8643484  0.5441846  0.80412085 0.76782445\n",
      " 0.8249825  0.82894086 0.87843651 0.55570706 0.97687499 0.86176194\n",
      " 0.42660393 0.93757133 0.8047926  0.86462452 0.         0.46097626\n",
      " 0.57384185]\n",
      "mIoU = 0.5385917050450463\n",
      "IoU = [0.9277337703984144, 0.5749089554192723, 0.8116293222447687, 0.11500538810019596, 0.42866139115677754, 0.4894062162248554, 0.5022291757045776, 0.5112494661005472, 0.8050132337244152, 0.3669570105627057, 0.9323787187552106, 0.5322123755980739, 0.324821413015071, 0.8794332374533477, 0.5546674134801459, 0.7573088192617695, 0.0, 0.2895744612381065, 0.4300520274176233]\n"
     ]
    }
   ],
   "source": [
    "for k,v in valid_logs.items():\n",
    "    print(k, \"=\", v)"
   ]
  },
  {
   "cell_type": "markdown",
   "metadata": {},
   "source": [
    "## Appendix"
   ]
  },
  {
   "cell_type": "code",
   "execution_count": 64,
   "metadata": {},
   "outputs": [
    {
     "name": "stdout",
     "output_type": "stream",
     "text": [
      "0.0\n",
      "0.8333263889467588\n",
      "0.0\n",
      "mIoU: 0.2777754629822529\n",
      "1\n"
     ]
    }
   ],
   "source": [
    "x1 = [1,1,1]\n",
    "x2 = [1,1,2]\n",
    "\n",
    "def calculate_iou(pred_mask, true_mask, class_label):\n",
    "    pred_class = pred_mask == class_label\n",
    "    true_class = true_mask == class_label\n",
    "\n",
    "    intersection = np.logical_and(pred_class, true_class)\n",
    "    union = np.logical_or(pred_class, true_class)\n",
    "\n",
    "    iou_score = np.sum(intersection) / (np.sum(union) + 0.00005)\n",
    "    return iou_score\n",
    "\n",
    "def calculate_mean_iou(pred_mask, true_mask, num_classes):\n",
    "    miou_sum = 0.0\n",
    "    for class_label in range(num_classes):\n",
    "        iou = calculate_iou(pred_mask, true_mask, class_label)\n",
    "        print(iou)\n",
    "        miou_sum += iou\n",
    "\n",
    "    mean_iou = miou_sum / num_classes\n",
    "    return mean_iou\n",
    "\n",
    "num_classes = 3\n",
    "miou = calculate_mean_iou(np.array([x1, x1]), np.array([x2, x1]), num_classes)\n",
    "print(\"mIoU:\", miou)\n",
    "print(x1[0])"
   ]
  }
 ],
 "metadata": {
  "kernelspec": {
   "display_name": "drivable-kJxmeTfE",
   "language": "python",
   "name": "python3"
  },
  "language_info": {
   "codemirror_mode": {
    "name": "ipython",
    "version": 3
   },
   "file_extension": ".py",
   "mimetype": "text/x-python",
   "name": "python",
   "nbconvert_exporter": "python",
   "pygments_lexer": "ipython3",
   "version": "3.10.12"
  },
  "orig_nbformat": 4
 },
 "nbformat": 4,
 "nbformat_minor": 2
}
