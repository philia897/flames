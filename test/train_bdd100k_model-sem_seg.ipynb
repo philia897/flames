{
 "cells": [
  {
   "cell_type": "markdown",
   "metadata": {},
   "source": [
    "## Module loading"
   ]
  },
  {
   "cell_type": "code",
   "execution_count": 4,
   "metadata": {},
   "outputs": [],
   "source": [
    "from importlib import reload\n",
    "\n",
    "import torch\n",
    "import torch.optim as optim\n",
    "import torch.nn as nn\n",
    "import numpy as np\n",
    "\n",
    "from lib.data import tools\n",
    "from lib.data.tools import get_dataloader\n",
    "from lib.train.runners import PytorchRunner\n",
    "from lib.train.metrics import IoUMetricMeter\n",
    "from models.modelInterface import BDD100kModel\n",
    "import lib.simulation.env\n",
    "reload(lib.simulation.env)\n",
    "from lib.simulation.env import (get_image_paths, get_label_paths, get_model_additional_configs, get_transforms)"
   ]
  },
  {
   "cell_type": "markdown",
   "metadata": {},
   "source": [
    "## Set parameters"
   ]
  },
  {
   "cell_type": "code",
   "execution_count": 5,
   "metadata": {},
   "outputs": [],
   "source": [
    "all_conditions = [\n",
    "        [\"clear\", \"residential\", \"daytime\"] ,\n",
    "        [\"clear\", \"residential\", \"night\"] ,\n",
    "        [\"clear\", \"residential\", \"dawn/dusk\"] ,\n",
    "        [\"clear\", \"city street\", \"daytime\"] ,\n",
    "        [\"clear\", \"city street\", \"night\"] ,\n",
    "        [\"clear\", \"city street\", \"dawn/dusk\"] ,\n",
    "        [\"clear\", \"highway\", \"daytime\"] ,\n",
    "        [\"clear\", \"highway\", \"night\"] ,\n",
    "        [\"clear\", \"highway\", \"dawn/dusk\"] ,\n",
    "        [\"overcast\", \"residential\", \"daytime\"] ,\n",
    "        [\"overcast\", \"city street\", \"daytime\"] ,\n",
    "        [\"overcast\", \"city street\", \"dawn/dusk\"] ,\n",
    "        [\"overcast\", \"highway\", \"daytime\"] ,\n",
    "        [\"overcast\", \"highway\", \"dawn/dusk\"] ,\n",
    "        [\"undefined\", \"residential\", \"daytime\"] ,\n",
    "        [\"undefined\", \"city street\", \"daytime\"] ,\n",
    "        [\"undefined\", \"city street\", \"night\"] ,\n",
    "        [\"undefined\", \"city street\", \"dawn/dusk\"] ,\n",
    "        [\"undefined\", \"highway\", \"daytime\"] ,\n",
    "        [\"partly cloudy\", \"residential\", \"daytime\"] ,\n",
    "        [\"partly cloudy\", \"city street\", \"daytime\"] ,\n",
    "        [\"partly cloudy\", \"city street\", \"dawn/dusk\"] ,\n",
    "        [\"partly cloudy\", \"highway\", \"daytime\"] ,\n",
    "        [\"partly cloudy\", \"highway\", \"dawn/dusk\"] ,\n",
    "        [\"rainy\", \"residential\", \"daytime\"] ,\n",
    "        [\"rainy\", \"city street\", \"daytime\"] ,\n",
    "        [\"rainy\", \"city street\", \"night\"] ,\n",
    "        [\"rainy\", \"city street\", \"dawn/dusk\"] ,\n",
    "        [\"rainy\", \"highway\", \"daytime\"] ,\n",
    "        [\"rainy\", \"highway\", \"night\"] ,\n",
    "        [\"snowy\", \"residential\", \"daytime\"] ,\n",
    "        [\"snowy\", \"residential\", \"night\"] ,\n",
    "        [\"snowy\", \"city street\", \"daytime\"] ,\n",
    "        [\"snowy\", \"city street\", \"night\"] ,\n",
    "        [\"snowy\", \"city street\", \"dawn/dusk\"] ,\n",
    "        [\"snowy\", \"highway\", \"daytime\"] ,\n",
    "        [\"snowy\", \"highway\", \"night\"]\n",
    "    ]"
   ]
  },
  {
   "cell_type": "code",
   "execution_count": 6,
   "metadata": {},
   "outputs": [],
   "source": [
    "DEVICE = torch.device(\"cuda:0\" if torch.cuda.is_available() else \"cpu\")\n",
    "pkg_name = \"10k\" # 100k or 10k\n",
    "output_size = (512,1024)\n",
    "task_name = \"sem_seg\" # \"drivable\", \"sem_seg\"\n",
    "config_file = \"/home/zekun/drivable/src/models/config-deeplabv3plus-sem_seg.py\"\n",
    "checkpoint_file = \"/home/zekun/drivable/outputs/semantic/models/deeplabv3+_backbone_fl10-class0-initial.pth\"\n",
    "train_attr_file = f\"/home/zekun/drivable/data/bdd100k/labels/{pkg_name}/bdd100k_labels_images_attributes_train.json\"\n",
    "val_attr_file = f\"/home/zekun/drivable/data/bdd100k/labels/{pkg_name}/bdd100k_labels_images_attributes_val.json\"\n",
    "output_dir = \"/home/zekun/drivable/outputs/semantic\"\n",
    "\n",
    "batchsize = 2\n",
    "learn_rate = 0.0001\n",
    "epochs = 5\n",
    "num_workers = 0"
   ]
  },
  {
   "cell_type": "code",
   "execution_count": 7,
   "metadata": {},
   "outputs": [],
   "source": [
    "IMAGE_PATH, IMAGE_PATH_TRAIN, IMAGE_PATH_VAL = get_image_paths(\"/home/zekun/drivable/\", pkg_name)\n",
    "LABEL_PATH, LABEL_PATH_TRAIN, LABEL_PATH_VAL = get_label_paths(\"/home/zekun/drivable/\", task_name, pkg_name)\n",
    "MODEL_META = get_model_additional_configs(task_name)\n",
    "img_transform, lbl_transform = get_transforms(task_name, output_size)\n",
    "conditions = all_conditions\n",
    "\n",
    "classes_num = MODEL_META[\"num_classes\"]"
   ]
  },
  {
   "cell_type": "markdown",
   "metadata": {},
   "source": [
    "## Data loaders"
   ]
  },
  {
   "cell_type": "code",
   "execution_count": 8,
   "metadata": {},
   "outputs": [],
   "source": [
    "train_fns = tools.get_img_paths_by_conditions(conditions, train_attr_file, IMAGE_PATH_TRAIN)\n",
    "val_fns = tools.get_img_paths_by_conditions(conditions, val_attr_file, IMAGE_PATH_VAL)\n",
    "\n",
    "train_loader = get_dataloader(\n",
    "    train_fns,\n",
    "    batch_size=batchsize,\n",
    "    workers=num_workers,\n",
    "    img_transform=img_transform,\n",
    "    lbl_transform=lbl_transform,\n",
    "    img_path=IMAGE_PATH_TRAIN,\n",
    "    lbl_path=LABEL_PATH_TRAIN,\n",
    "    is_train=True,\n",
    "    classes_num=classes_num\n",
    ")\n",
    "val_loader = get_dataloader(\n",
    "    val_fns,\n",
    "    batch_size=batchsize,\n",
    "    workers=num_workers,\n",
    "    img_transform=img_transform,\n",
    "    lbl_transform=lbl_transform,\n",
    "    img_path=IMAGE_PATH_VAL,\n",
    "    lbl_path=LABEL_PATH_VAL,        \n",
    "    is_train=False,\n",
    "    classes_num=classes_num\n",
    ")"
   ]
  },
  {
   "cell_type": "markdown",
   "metadata": {},
   "source": [
    "## Model initialization"
   ]
  },
  {
   "cell_type": "code",
   "execution_count": 9,
   "metadata": {},
   "outputs": [
    {
     "name": "stderr",
     "output_type": "stream",
     "text": [
      "/home/zekun/.local/share/virtualenvs/drivable-kJxmeTfE/lib/python3.10/site-packages/mmseg/models/builder.py:36: UserWarning: ``build_loss`` would be deprecated soon, please use ``mmseg.registry.MODELS.build()`` \n",
      "  warnings.warn('``build_loss`` would be deprecated soon, please use '\n",
      "/home/zekun/.local/share/virtualenvs/drivable-kJxmeTfE/lib/python3.10/site-packages/mmseg/models/losses/cross_entropy_loss.py:235: UserWarning: Default ``avg_non_ignore`` is False, if you would like to ignore the certain label and average loss over non-ignore labels, which is the same with PyTorch official cross_entropy, set ``avg_non_ignore=True``.\n",
      "  warnings.warn(\n"
     ]
    },
    {
     "name": "stdout",
     "output_type": "stream",
     "text": [
      "Loads checkpoint by local backend from path: /home/zekun/drivable/outputs/semantic/models/deeplabv3+_backbone_fl10-class0-initial.pth\n"
     ]
    }
   ],
   "source": [
    "model = BDD100kModel(\n",
    "    num_classes=classes_num,\n",
    "    backbone=tools.load_mmcv_checkpoint(config_file, checkpoint_file),\n",
    "    size=output_size\n",
    ")\n",
    "optimizer = optim.Adam(model.parameters(), lr=learn_rate)\n",
    "criterion = nn.CrossEntropyLoss(ignore_index=255)\n",
    "\n",
    "runner = PytorchRunner(optimizer, criterion, train_loader, val_loader, IoUMetricMeter(classes_num), DEVICE, True)"
   ]
  },
  {
   "cell_type": "markdown",
   "metadata": {},
   "source": [
    "## Model training"
   ]
  },
  {
   "cell_type": "code",
   "execution_count": 10,
   "metadata": {},
   "outputs": [
    {
     "name": "stderr",
     "output_type": "stream",
     "text": [
      "Train:   0%|          | 13/3484 [00:05<24:12,  2.39it/s, Loss=0.822, pAcc=0.818] \n"
     ]
    },
    {
     "ename": "KeyboardInterrupt",
     "evalue": "",
     "output_type": "error",
     "traceback": [
      "\u001b[0;31m---------------------------------------------------------------------------\u001b[0m",
      "\u001b[0;31mKeyboardInterrupt\u001b[0m                         Traceback (most recent call last)",
      "Cell \u001b[0;32mIn[10], line 1\u001b[0m\n\u001b[0;32m----> 1\u001b[0m runner\u001b[39m.\u001b[39;49mtrain(model, epochs)\n",
      "File \u001b[0;32m~/drivable/src/lib/train/runners.py:187\u001b[0m, in \u001b[0;36mPytorchRunner.train\u001b[0;34m(self, model, epochs, comment)\u001b[0m\n\u001b[1;32m    185\u001b[0m \u001b[39mdef\u001b[39;00m \u001b[39mtrain\u001b[39m(\u001b[39mself\u001b[39m, model:torch\u001b[39m.\u001b[39mnn\u001b[39m.\u001b[39mModule, epochs\u001b[39m=\u001b[39m\u001b[39m1\u001b[39m, comment:\u001b[39mstr\u001b[39m\u001b[39m=\u001b[39m\u001b[39m\"\u001b[39m\u001b[39mtraining log\u001b[39m\u001b[39m\"\u001b[39m)\u001b[39m-\u001b[39m\u001b[39m>\u001b[39m\u001b[39mNone\u001b[39;00m:\n\u001b[1;32m    186\u001b[0m     \u001b[39mfor\u001b[39;00m epoch_i \u001b[39min\u001b[39;00m \u001b[39mrange\u001b[39m(epochs):\n\u001b[0;32m--> 187\u001b[0m         train_log \u001b[39m=\u001b[39m train_epoch(\n\u001b[1;32m    188\u001b[0m             model\u001b[39m=\u001b[39;49mmodel,\n\u001b[1;32m    189\u001b[0m             optimizer\u001b[39m=\u001b[39;49m\u001b[39mself\u001b[39;49m\u001b[39m.\u001b[39;49moptimizer,\n\u001b[1;32m    190\u001b[0m             criterion\u001b[39m=\u001b[39;49m\u001b[39mself\u001b[39;49m\u001b[39m.\u001b[39;49mcriterion,\n\u001b[1;32m    191\u001b[0m             dataloader\u001b[39m=\u001b[39;49m\u001b[39mself\u001b[39;49m\u001b[39m.\u001b[39;49mtrain_loader,\n\u001b[1;32m    192\u001b[0m             metric_meter\u001b[39m=\u001b[39;49m\u001b[39mself\u001b[39;49m\u001b[39m.\u001b[39;49mmetric_meter,\n\u001b[1;32m    193\u001b[0m             device\u001b[39m=\u001b[39;49m\u001b[39mself\u001b[39;49m\u001b[39m.\u001b[39;49mdevice,\n\u001b[1;32m    194\u001b[0m             verbose\u001b[39m=\u001b[39;49m\u001b[39mself\u001b[39;49m\u001b[39m.\u001b[39;49mverbose\n\u001b[1;32m    195\u001b[0m         )\n\u001b[1;32m    196\u001b[0m         LOGGER\u001b[39m.\u001b[39mdebug({\n\u001b[1;32m    197\u001b[0m             \u001b[39m\"\u001b[39m\u001b[39mcomment\u001b[39m\u001b[39m\"\u001b[39m: comment,\n\u001b[1;32m    198\u001b[0m             \u001b[39m\"\u001b[39m\u001b[39mepoch\u001b[39m\u001b[39m\"\u001b[39m: epoch_i,\n\u001b[1;32m    199\u001b[0m             \u001b[39m\"\u001b[39m\u001b[39mlog\u001b[39m\u001b[39m\"\u001b[39m: train_log})\n",
      "File \u001b[0;32m~/drivable/src/lib/train/runners.py:92\u001b[0m, in \u001b[0;36mtrain_epoch\u001b[0;34m(model, optimizer, criterion, dataloader, metric_meter, device, verbose)\u001b[0m\n\u001b[1;32m     89\u001b[0m loss\u001b[39m.\u001b[39mbackward()\n\u001b[1;32m     90\u001b[0m optimizer\u001b[39m.\u001b[39mstep()\n\u001b[0;32m---> 92\u001b[0m loss_meter\u001b[39m.\u001b[39mupdate(loss\u001b[39m.\u001b[39;49mitem(), n\u001b[39m=\u001b[39mn)\n\u001b[1;32m     94\u001b[0m \u001b[39mwith\u001b[39;00m torch\u001b[39m.\u001b[39mno_grad():\n\u001b[1;32m     95\u001b[0m     metric_meter\u001b[39m.\u001b[39mcalculate_and_log(y, outputs)\n",
      "\u001b[0;31mKeyboardInterrupt\u001b[0m: "
     ]
    },
    {
     "ename": "",
     "evalue": "",
     "output_type": "error",
     "traceback": [
      "\u001b[1;31mThe Kernel crashed while executing code in the the current cell or a previous cell. Please review the code in the cell(s) to identify a possible cause of the failure. Click <a href='https://aka.ms/vscodeJupyterKernelCrash'>here</a> for more info. View Jupyter <a href='command:jupyter.viewOutput'>log</a> for further details."
     ]
    }
   ],
   "source": [
    "runner.train(model, epochs)"
   ]
  },
  {
   "cell_type": "markdown",
   "metadata": {},
   "source": [
    "## Model Validation"
   ]
  },
  {
   "cell_type": "code",
   "execution_count": 19,
   "metadata": {},
   "outputs": [
    {
     "name": "stderr",
     "output_type": "stream",
     "text": [
      "Valid: 100%|██████████| 498/498 [00:52<00:00,  9.41it/s, Loss=0.406, pAcc=0.882]\n",
      "/home/zekun/.local/share/virtualenvs/drivable-kJxmeTfE/lib/python3.10/site-packages/bdd100k/eval/seg.py:78: RuntimeWarning: invalid value encountered in divide\n",
      "  ious: NDArrayF64 = np.diag(hist) / (\n",
      "/home/zekun/.local/share/virtualenvs/drivable-kJxmeTfE/lib/python3.10/site-packages/bdd100k/eval/seg.py:88: RuntimeWarning: invalid value encountered in divide\n",
      "  accs: NDArrayF64 = np.diag(hist) / hist.sum(axis=0)\n",
      "DEBUG flames 2023-09-08 14:24:01,321 | runners.py:192 | {'name': 'validating log', 'log': {'Loss': 0.4064523779267642, 'pAcc': 0.881732966681712, 'Acc': array([0.95198948, 0.81802302, 0.89222318, 0.29443965, 0.56451934,\n",
      "       0.72992805, 0.57272633, 0.72641295, 0.84147154, 0.62166514,\n",
      "       0.95154021, 0.68899675, 0.        , 0.85969304, 0.20625348,\n",
      "       0.79739268, 0.        , 0.        , 0.46614839]), 'mIoU': 0.4050377204942521, 'IoU': [0.8970269985059579, 0.4257580250061898, 0.7621026606385318, 0.12634872245907994, 0.2884176835367073, 0.3578368116425738, 0.3963294684439375, 0.3796861744220034, 0.800808302261701, 0.3439375307447835, 0.9338341766306198, 0.4307107977346042, 0.0, 0.788923832711518, 0.1538869849315081, 0.3036525882651424, 0.0, 0.0, 0.3064559314559315]}}\n",
      "[2023-09-08 14:24:01,321 runners.py:192 validate] {'name': 'validating log', 'log': {'Loss': 0.4064523779267642, 'pAcc': 0.881732966681712, 'Acc': array([0.95198948, 0.81802302, 0.89222318, 0.29443965, 0.56451934,\n",
      "       0.72992805, 0.57272633, 0.72641295, 0.84147154, 0.62166514,\n",
      "       0.95154021, 0.68899675, 0.        , 0.85969304, 0.20625348,\n",
      "       0.79739268, 0.        , 0.        , 0.46614839]), 'mIoU': 0.4050377204942521, 'IoU': [0.8970269985059579, 0.4257580250061898, 0.7621026606385318, 0.12634872245907994, 0.2884176835367073, 0.3578368116425738, 0.3963294684439375, 0.3796861744220034, 0.800808302261701, 0.3439375307447835, 0.9338341766306198, 0.4307107977346042, 0.0, 0.788923832711518, 0.1538869849315081, 0.3036525882651424, 0.0, 0.0, 0.3064559314559315]}}\n"
     ]
    },
    {
     "data": {
      "text/plain": [
       "{'Loss': 0.4064523779267642,\n",
       " 'pAcc': 0.881732966681712,\n",
       " 'Acc': array([0.95198948, 0.81802302, 0.89222318, 0.29443965, 0.56451934,\n",
       "        0.72992805, 0.57272633, 0.72641295, 0.84147154, 0.62166514,\n",
       "        0.95154021, 0.68899675, 0.        , 0.85969304, 0.20625348,\n",
       "        0.79739268, 0.        , 0.        , 0.46614839]),\n",
       " 'mIoU': 0.4050377204942521,\n",
       " 'IoU': [0.8970269985059579,\n",
       "  0.4257580250061898,\n",
       "  0.7621026606385318,\n",
       "  0.12634872245907994,\n",
       "  0.2884176835367073,\n",
       "  0.3578368116425738,\n",
       "  0.3963294684439375,\n",
       "  0.3796861744220034,\n",
       "  0.800808302261701,\n",
       "  0.3439375307447835,\n",
       "  0.9338341766306198,\n",
       "  0.4307107977346042,\n",
       "  0.0,\n",
       "  0.788923832711518,\n",
       "  0.1538869849315081,\n",
       "  0.3036525882651424,\n",
       "  0.0,\n",
       "  0.0,\n",
       "  0.3064559314559315]}"
      ]
     },
     "execution_count": 19,
     "metadata": {},
     "output_type": "execute_result"
    }
   ],
   "source": [
    "valid_logs = runner.validate(model)"
   ]
  },
  {
   "cell_type": "code",
   "execution_count": 61,
   "metadata": {},
   "outputs": [
    {
     "name": "stdout",
     "output_type": "stream",
     "text": [
      "Loss = 0.31901394536147765\n",
      "mAcc = 0.9128786127915733\n",
      "Acc = [0.95043859 0.80964294 0.8643484  0.5441846  0.80412085 0.76782445\n",
      " 0.8249825  0.82894086 0.87843651 0.55570706 0.97687499 0.86176194\n",
      " 0.42660393 0.93757133 0.8047926  0.86462452 0.         0.46097626\n",
      " 0.57384185]\n",
      "mIoU = 0.5385917050450463\n",
      "IoU = [0.9277337703984144, 0.5749089554192723, 0.8116293222447687, 0.11500538810019596, 0.42866139115677754, 0.4894062162248554, 0.5022291757045776, 0.5112494661005472, 0.8050132337244152, 0.3669570105627057, 0.9323787187552106, 0.5322123755980739, 0.324821413015071, 0.8794332374533477, 0.5546674134801459, 0.7573088192617695, 0.0, 0.2895744612381065, 0.4300520274176233]\n"
     ]
    }
   ],
   "source": [
    "for k,v in valid_logs.items():\n",
    "    print(k, \"=\", v)"
   ]
  },
  {
   "cell_type": "markdown",
   "metadata": {},
   "source": [
    "## Appendix"
   ]
  },
  {
   "cell_type": "code",
   "execution_count": 64,
   "metadata": {},
   "outputs": [
    {
     "name": "stdout",
     "output_type": "stream",
     "text": [
      "0.0\n",
      "0.8333263889467588\n",
      "0.0\n",
      "mIoU: 0.2777754629822529\n",
      "1\n"
     ]
    }
   ],
   "source": [
    "x1 = [1,1,1]\n",
    "x2 = [1,1,2]\n",
    "\n",
    "def calculate_iou(pred_mask, true_mask, class_label):\n",
    "    pred_class = pred_mask == class_label\n",
    "    true_class = true_mask == class_label\n",
    "\n",
    "    intersection = np.logical_and(pred_class, true_class)\n",
    "    union = np.logical_or(pred_class, true_class)\n",
    "\n",
    "    iou_score = np.sum(intersection) / (np.sum(union) + 0.00005)\n",
    "    return iou_score\n",
    "\n",
    "def calculate_mean_iou(pred_mask, true_mask, num_classes):\n",
    "    miou_sum = 0.0\n",
    "    for class_label in range(num_classes):\n",
    "        iou = calculate_iou(pred_mask, true_mask, class_label)\n",
    "        print(iou)\n",
    "        miou_sum += iou\n",
    "\n",
    "    mean_iou = miou_sum / num_classes\n",
    "    return mean_iou\n",
    "\n",
    "num_classes = 3\n",
    "miou = calculate_mean_iou(np.array([x1, x1]), np.array([x2, x1]), num_classes)\n",
    "print(\"mIoU:\", miou)\n",
    "print(x1[0])"
   ]
  }
 ],
 "metadata": {
  "kernelspec": {
   "display_name": "drivable-kJxmeTfE",
   "language": "python",
   "name": "python3"
  },
  "language_info": {
   "codemirror_mode": {
    "name": "ipython",
    "version": 3
   },
   "file_extension": ".py",
   "mimetype": "text/x-python",
   "name": "python",
   "nbconvert_exporter": "python",
   "pygments_lexer": "ipython3",
   "version": "3.10.12"
  },
  "orig_nbformat": 4
 },
 "nbformat": 4,
 "nbformat_minor": 2
}
