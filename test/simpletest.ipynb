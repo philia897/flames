{
 "cells": [
  {
   "cell_type": "code",
   "execution_count": 40,
   "metadata": {},
   "outputs": [
    {
     "name": "stdout",
     "output_type": "stream",
     "text": [
      "[  0   1   2   4   5   6   7   8  10  13 255] 11\n",
      "\n",
      "[0.         0.00392157 0.00784314 0.01568628 0.01960784 0.02352941\n",
      " 0.02745098 0.03137255 0.03921569 0.05098039 1.        ] 11\n",
      "\n",
      "[ 0  1  2  4  5  6  7  8 10 13 20] 11\n",
      "\n",
      "torch.Size([21, 512, 1024])\n"
     ]
    }
   ],
   "source": [
    "from PIL import Image\n",
    "from torchvision import transforms\n",
    "import torch\n",
    "import numpy as np\n",
    "\n",
    "label_path = \"/home/zekun/drivable/data/bdd100k/labels/10k/sem_seg/masks/val/82ad9d1c-1a5212c8.png\"\n",
    "# label_path = \"/home/zekun/drivable/data/bdd100k/labels/100k/drivable/masks/val/b1c66a42-6f7d68ca.png\"\n",
    "\n",
    "label = Image.open(label_path)\n",
    "print(np.unique(np.array(label)), len(np.unique(np.array(label))))\n",
    "print()\n",
    "\n",
    "def replace_255_with_20(label):\n",
    "    # label = np.array(label)\n",
    "    label[label==255] = 20\n",
    "    # return Image.fromarray(label)\n",
    "    return label\n",
    "\n",
    "transform = transforms.Compose(\n",
    "    [\n",
    "        \n",
    "        transforms.Resize((512,1024), transforms.InterpolationMode.NEAREST),\n",
    "        transforms.ToTensor(),\n",
    "        transforms.Lambda(lambda x: x.squeeze())\n",
    "        # transforms.Normalize(mean=[0.485, 0.456, 0.406], std=[0.229, 0.224, 0.225])\n",
    "    ]\n",
    ")\n",
    "\n",
    "label = transform(label)\n",
    "print(np.unique(np.array(label)), len(np.unique(np.array(label))))\n",
    "print()\n",
    "# Convert label to tensor and convert from RGB to single channel (grayscale)\n",
    "label = (label*255).to(torch.int64)\n",
    "print(np.unique(np.array(label)), len(np.unique(np.array(label))))\n",
    "print()\n",
    "\n",
    "label = torch.nn.functional.one_hot(label, num_classes=21).permute(2, 0, 1).float()\n",
    "print(label.shape)\n",
    "# print(label[label2=])"
   ]
  },
  {
   "cell_type": "code",
   "execution_count": 41,
   "metadata": {},
   "outputs": [
    {
     "name": "stdout",
     "output_type": "stream",
     "text": [
      "[ True  True  True]\n"
     ]
    }
   ],
   "source": [
    "arr1 = [1,2,3]\n",
    "arr2 = [1,3,2]\n",
    "\n",
    "print(np.logical_and(arr1, arr2))"
   ]
  }
 ],
 "metadata": {
  "kernelspec": {
   "display_name": "drivable-kJxmeTfE",
   "language": "python",
   "name": "python3"
  },
  "language_info": {
   "codemirror_mode": {
    "name": "ipython",
    "version": 3
   },
   "file_extension": ".py",
   "mimetype": "text/x-python",
   "name": "python",
   "nbconvert_exporter": "python",
   "pygments_lexer": "ipython3",
   "version": "3.10.6"
  },
  "orig_nbformat": 4
 },
 "nbformat": 4,
 "nbformat_minor": 2
}
